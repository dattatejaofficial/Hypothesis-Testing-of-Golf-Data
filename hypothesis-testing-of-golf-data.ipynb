{
 "cells": [
  {
   "cell_type": "code",
   "execution_count": 1,
   "id": "ed4e617b",
   "metadata": {
    "_cell_guid": "b1076dfc-b9ad-4769-8c92-a6c4dae69d19",
    "_uuid": "8f2839f25d086af736a60e9eeb907d3b93b6e0e5",
    "execution": {
     "iopub.execute_input": "2024-04-30T06:41:38.677404Z",
     "iopub.status.busy": "2024-04-30T06:41:38.676280Z",
     "iopub.status.idle": "2024-04-30T06:41:41.252560Z",
     "shell.execute_reply": "2024-04-30T06:41:41.251648Z"
    },
    "papermill": {
     "duration": 2.587556,
     "end_time": "2024-04-30T06:41:41.255033",
     "exception": false,
     "start_time": "2024-04-30T06:41:38.667477",
     "status": "completed"
    },
    "tags": []
   },
   "outputs": [],
   "source": [
    "import pandas as pd\n",
    "import matplotlib.pyplot as plt\n",
    "import seaborn as sns\n",
    "from scipy import stats"
   ]
  },
  {
   "cell_type": "markdown",
   "id": "ea5240a2",
   "metadata": {
    "papermill": {
     "duration": 0.005634,
     "end_time": "2024-04-30T06:41:41.266662",
     "exception": false,
     "start_time": "2024-04-30T06:41:41.261028",
     "status": "completed"
    },
    "tags": []
   },
   "source": [
    "<h3>Reading the data</h3>"
   ]
  },
  {
   "cell_type": "code",
   "execution_count": 2,
   "id": "36a6fc42",
   "metadata": {
    "execution": {
     "iopub.execute_input": "2024-04-30T06:41:41.279812Z",
     "iopub.status.busy": "2024-04-30T06:41:41.279064Z",
     "iopub.status.idle": "2024-04-30T06:41:41.296303Z",
     "shell.execute_reply": "2024-04-30T06:41:41.295314Z"
    },
    "papermill": {
     "duration": 0.026934,
     "end_time": "2024-04-30T06:41:41.299096",
     "exception": false,
     "start_time": "2024-04-30T06:41:41.272162",
     "status": "completed"
    },
    "tags": []
   },
   "outputs": [],
   "source": [
    "data = pd.read_csv('./Golf.csv')"
   ]
  },
  {
   "cell_type": "markdown",
   "id": "51aafd80",
   "metadata": {
    "papermill": {
     "duration": 0.005122,
     "end_time": "2024-04-30T06:41:41.309806",
     "exception": false,
     "start_time": "2024-04-30T06:41:41.304684",
     "status": "completed"
    },
    "tags": []
   },
   "source": [
    "<h3>Exploring the data</h3>"
   ]
  },
  {
   "cell_type": "code",
   "execution_count": 3,
   "id": "3853c269",
   "metadata": {
    "execution": {
     "iopub.execute_input": "2024-04-30T06:41:41.323028Z",
     "iopub.status.busy": "2024-04-30T06:41:41.322662Z",
     "iopub.status.idle": "2024-04-30T06:41:41.342568Z",
     "shell.execute_reply": "2024-04-30T06:41:41.341301Z"
    },
    "papermill": {
     "duration": 0.029737,
     "end_time": "2024-04-30T06:41:41.344991",
     "exception": false,
     "start_time": "2024-04-30T06:41:41.315254",
     "status": "completed"
    },
    "tags": []
   },
   "outputs": [
    {
     "data": {
      "text/html": [
       "<div>\n",
       "<style scoped>\n",
       "    .dataframe tbody tr th:only-of-type {\n",
       "        vertical-align: middle;\n",
       "    }\n",
       "\n",
       "    .dataframe tbody tr th {\n",
       "        vertical-align: top;\n",
       "    }\n",
       "\n",
       "    .dataframe thead th {\n",
       "        text-align: right;\n",
       "    }\n",
       "</style>\n",
       "<table border=\"1\" class=\"dataframe\">\n",
       "  <thead>\n",
       "    <tr style=\"text-align: right;\">\n",
       "      <th></th>\n",
       "      <th>Current</th>\n",
       "      <th>New</th>\n",
       "    </tr>\n",
       "  </thead>\n",
       "  <tbody>\n",
       "    <tr>\n",
       "      <th>0</th>\n",
       "      <td>264</td>\n",
       "      <td>277</td>\n",
       "    </tr>\n",
       "    <tr>\n",
       "      <th>1</th>\n",
       "      <td>261</td>\n",
       "      <td>269</td>\n",
       "    </tr>\n",
       "    <tr>\n",
       "      <th>2</th>\n",
       "      <td>267</td>\n",
       "      <td>263</td>\n",
       "    </tr>\n",
       "    <tr>\n",
       "      <th>3</th>\n",
       "      <td>272</td>\n",
       "      <td>266</td>\n",
       "    </tr>\n",
       "    <tr>\n",
       "      <th>4</th>\n",
       "      <td>258</td>\n",
       "      <td>262</td>\n",
       "    </tr>\n",
       "  </tbody>\n",
       "</table>\n",
       "</div>"
      ],
      "text/plain": [
       "   Current  New\n",
       "0      264  277\n",
       "1      261  269\n",
       "2      267  263\n",
       "3      272  266\n",
       "4      258  262"
      ]
     },
     "execution_count": 3,
     "metadata": {},
     "output_type": "execute_result"
    }
   ],
   "source": [
    "data.head()"
   ]
  },
  {
   "cell_type": "code",
   "execution_count": 4,
   "id": "dae4666e",
   "metadata": {
    "execution": {
     "iopub.execute_input": "2024-04-30T06:41:41.359362Z",
     "iopub.status.busy": "2024-04-30T06:41:41.358943Z",
     "iopub.status.idle": "2024-04-30T06:41:41.385552Z",
     "shell.execute_reply": "2024-04-30T06:41:41.384076Z"
    },
    "papermill": {
     "duration": 0.037847,
     "end_time": "2024-04-30T06:41:41.388642",
     "exception": false,
     "start_time": "2024-04-30T06:41:41.350795",
     "status": "completed"
    },
    "tags": []
   },
   "outputs": [
    {
     "name": "stdout",
     "output_type": "stream",
     "text": [
      "<class 'pandas.core.frame.DataFrame'>\n",
      "RangeIndex: 40 entries, 0 to 39\n",
      "Data columns (total 2 columns):\n",
      " #   Column   Non-Null Count  Dtype\n",
      "---  ------   --------------  -----\n",
      " 0   Current  40 non-null     int64\n",
      " 1   New      40 non-null     int64\n",
      "dtypes: int64(2)\n",
      "memory usage: 768.0 bytes\n"
     ]
    }
   ],
   "source": [
    "data.info()"
   ]
  },
  {
   "cell_type": "code",
   "execution_count": 5,
   "id": "8abc21b1",
   "metadata": {
    "execution": {
     "iopub.execute_input": "2024-04-30T06:41:41.403201Z",
     "iopub.status.busy": "2024-04-30T06:41:41.402192Z",
     "iopub.status.idle": "2024-04-30T06:41:41.409412Z",
     "shell.execute_reply": "2024-04-30T06:41:41.408326Z"
    },
    "papermill": {
     "duration": 0.016859,
     "end_time": "2024-04-30T06:41:41.411707",
     "exception": false,
     "start_time": "2024-04-30T06:41:41.394848",
     "status": "completed"
    },
    "tags": []
   },
   "outputs": [
    {
     "data": {
      "text/plain": [
       "(40, 2)"
      ]
     },
     "execution_count": 5,
     "metadata": {},
     "output_type": "execute_result"
    }
   ],
   "source": [
    "data.shape"
   ]
  },
  {
   "cell_type": "code",
   "execution_count": 6,
   "id": "ba4ac17e",
   "metadata": {
    "execution": {
     "iopub.execute_input": "2024-04-30T06:41:41.425024Z",
     "iopub.status.busy": "2024-04-30T06:41:41.424631Z",
     "iopub.status.idle": "2024-04-30T06:41:41.447629Z",
     "shell.execute_reply": "2024-04-30T06:41:41.446439Z"
    },
    "papermill": {
     "duration": 0.032668,
     "end_time": "2024-04-30T06:41:41.450206",
     "exception": false,
     "start_time": "2024-04-30T06:41:41.417538",
     "status": "completed"
    },
    "tags": []
   },
   "outputs": [
    {
     "data": {
      "text/html": [
       "<div>\n",
       "<style scoped>\n",
       "    .dataframe tbody tr th:only-of-type {\n",
       "        vertical-align: middle;\n",
       "    }\n",
       "\n",
       "    .dataframe tbody tr th {\n",
       "        vertical-align: top;\n",
       "    }\n",
       "\n",
       "    .dataframe thead th {\n",
       "        text-align: right;\n",
       "    }\n",
       "</style>\n",
       "<table border=\"1\" class=\"dataframe\">\n",
       "  <thead>\n",
       "    <tr style=\"text-align: right;\">\n",
       "      <th></th>\n",
       "      <th>Current</th>\n",
       "      <th>New</th>\n",
       "    </tr>\n",
       "  </thead>\n",
       "  <tbody>\n",
       "    <tr>\n",
       "      <th>count</th>\n",
       "      <td>40.000000</td>\n",
       "      <td>40.000000</td>\n",
       "    </tr>\n",
       "    <tr>\n",
       "      <th>mean</th>\n",
       "      <td>270.275000</td>\n",
       "      <td>267.500000</td>\n",
       "    </tr>\n",
       "    <tr>\n",
       "      <th>std</th>\n",
       "      <td>8.752985</td>\n",
       "      <td>9.896904</td>\n",
       "    </tr>\n",
       "    <tr>\n",
       "      <th>min</th>\n",
       "      <td>255.000000</td>\n",
       "      <td>250.000000</td>\n",
       "    </tr>\n",
       "    <tr>\n",
       "      <th>25%</th>\n",
       "      <td>263.000000</td>\n",
       "      <td>262.000000</td>\n",
       "    </tr>\n",
       "    <tr>\n",
       "      <th>50%</th>\n",
       "      <td>270.000000</td>\n",
       "      <td>265.000000</td>\n",
       "    </tr>\n",
       "    <tr>\n",
       "      <th>75%</th>\n",
       "      <td>275.250000</td>\n",
       "      <td>274.500000</td>\n",
       "    </tr>\n",
       "    <tr>\n",
       "      <th>max</th>\n",
       "      <td>289.000000</td>\n",
       "      <td>289.000000</td>\n",
       "    </tr>\n",
       "  </tbody>\n",
       "</table>\n",
       "</div>"
      ],
      "text/plain": [
       "          Current         New\n",
       "count   40.000000   40.000000\n",
       "mean   270.275000  267.500000\n",
       "std      8.752985    9.896904\n",
       "min    255.000000  250.000000\n",
       "25%    263.000000  262.000000\n",
       "50%    270.000000  265.000000\n",
       "75%    275.250000  274.500000\n",
       "max    289.000000  289.000000"
      ]
     },
     "execution_count": 6,
     "metadata": {},
     "output_type": "execute_result"
    }
   ],
   "source": [
    "data.describe()"
   ]
  },
  {
   "cell_type": "code",
   "execution_count": 7,
   "id": "682b97c5",
   "metadata": {
    "execution": {
     "iopub.execute_input": "2024-04-30T06:41:41.464860Z",
     "iopub.status.busy": "2024-04-30T06:41:41.464274Z",
     "iopub.status.idle": "2024-04-30T06:41:41.472979Z",
     "shell.execute_reply": "2024-04-30T06:41:41.471896Z"
    },
    "papermill": {
     "duration": 0.019149,
     "end_time": "2024-04-30T06:41:41.475865",
     "exception": false,
     "start_time": "2024-04-30T06:41:41.456716",
     "status": "completed"
    },
    "tags": []
   },
   "outputs": [
    {
     "data": {
      "text/plain": [
       "Current    0\n",
       "New        0\n",
       "dtype: int64"
      ]
     },
     "execution_count": 7,
     "metadata": {},
     "output_type": "execute_result"
    }
   ],
   "source": [
    "data.isnull().sum()"
   ]
  },
  {
   "cell_type": "markdown",
   "id": "318e19c7",
   "metadata": {
    "papermill": {
     "duration": 0.005839,
     "end_time": "2024-04-30T06:41:41.489206",
     "exception": false,
     "start_time": "2024-04-30T06:41:41.483367",
     "status": "completed"
    },
    "tags": []
   },
   "source": [
    "<b style='font-size:19px'>No null values are present in the data.</b>"
   ]
  },
  {
   "cell_type": "code",
   "execution_count": 8,
   "id": "9b0e5ede",
   "metadata": {
    "execution": {
     "iopub.execute_input": "2024-04-30T06:41:41.504109Z",
     "iopub.status.busy": "2024-04-30T06:41:41.503313Z",
     "iopub.status.idle": "2024-04-30T06:41:41.794115Z",
     "shell.execute_reply": "2024-04-30T06:41:41.792313Z"
    },
    "papermill": {
     "duration": 0.301322,
     "end_time": "2024-04-30T06:41:41.796805",
     "exception": false,
     "start_time": "2024-04-30T06:41:41.495483",
     "status": "completed"
    },
    "tags": []
   },
   "outputs": [
    {
     "data": {
      "image/png": "[encoded data removed]",
      "text/plain": [
       "<Figure size 640x480 with 1 Axes>"
      ]
     },
     "metadata": {},
     "output_type": "display_data"
    }
   ],
   "source": [
    "sns.boxplot(data['Current'],color='green')\n",
    "plt.title('Box Plot of Current ball');"
   ]
  },
  {
   "cell_type": "code",
   "execution_count": 9,
   "id": "f24f90ab",
   "metadata": {
    "execution": {
     "iopub.execute_input": "2024-04-30T06:41:41.813196Z",
     "iopub.status.busy": "2024-04-30T06:41:41.812740Z",
     "iopub.status.idle": "2024-04-30T06:41:42.188474Z",
     "shell.execute_reply": "2024-04-30T06:41:42.187528Z"
    },
    "papermill": {
     "duration": 0.386876,
     "end_time": "2024-04-30T06:41:42.190834",
     "exception": false,
     "start_time": "2024-04-30T06:41:41.803958",
     "status": "completed"
    },
    "tags": []
   },
   "outputs": [
    {
     "data": {
      "image/png": "[encoded data removed]",
      "text/plain": [
       "<Figure size 640x480 with 1 Axes>"
      ]
     },
     "metadata": {},
     "output_type": "display_data"
    }
   ],
   "source": [
    "sns.boxplot(data['New'],color='red')\n",
    "plt.title('Box Plot of New Ball');"
   ]
  },
  {
   "cell_type": "markdown",
   "id": "65b2d4a3",
   "metadata": {
    "papermill": {
     "duration": 0.007624,
     "end_time": "2024-04-30T06:41:42.206932",
     "exception": false,
     "start_time": "2024-04-30T06:41:42.199308",
     "status": "completed"
    },
    "tags": []
   },
   "source": [
    "<b style='font-size:19px'>From the above box plots, outliers are not present in the data.</b>"
   ]
  },
  {
   "cell_type": "code",
   "execution_count": 10,
   "id": "a0be6164",
   "metadata": {
    "execution": {
     "iopub.execute_input": "2024-04-30T06:41:42.232953Z",
     "iopub.status.busy": "2024-04-30T06:41:42.227560Z",
     "iopub.status.idle": "2024-04-30T06:41:42.923600Z",
     "shell.execute_reply": "2024-04-30T06:41:42.922089Z"
    },
    "papermill": {
     "duration": 0.711604,
     "end_time": "2024-04-30T06:41:42.926266",
     "exception": false,
     "start_time": "2024-04-30T06:41:42.214662",
     "status": "completed"
    },
    "tags": []
   },
   "outputs": [
    {
     "name": "stderr",
     "output_type": "stream",
     "text": [
      "/opt/conda/lib/python3.10/site-packages/seaborn/_oldcore.py:1119: FutureWarning: use_inf_as_na option is deprecated and will be removed in a future version. Convert inf values to NaN before operating instead.\n",
      "  with pd.option_context('mode.use_inf_as_na', True):\n"
     ]
    },
    {
     "data": {
      "image/png": "[encoded data removed]",
      "text/plain": [
       "<Figure size 500x500 with 1 Axes>"
      ]
     },
     "metadata": {},
     "output_type": "display_data"
    }
   ],
   "source": [
    "sns.displot(data['Current'],kde=True,color='blue')\n",
    "plt.title('Distances covered by the Current ball');"
   ]
  },
  {
   "cell_type": "code",
   "execution_count": 11,
   "id": "2678572f",
   "metadata": {
    "execution": {
     "iopub.execute_input": "2024-04-30T06:41:42.948993Z",
     "iopub.status.busy": "2024-04-30T06:41:42.947989Z",
     "iopub.status.idle": "2024-04-30T06:41:43.444798Z",
     "shell.execute_reply": "2024-04-30T06:41:43.443358Z"
    },
    "papermill": {
     "duration": 0.512083,
     "end_time": "2024-04-30T06:41:43.447861",
     "exception": false,
     "start_time": "2024-04-30T06:41:42.935778",
     "status": "completed"
    },
    "tags": []
   },
   "outputs": [
    {
     "name": "stderr",
     "output_type": "stream",
     "text": [
      "/opt/conda/lib/python3.10/site-packages/seaborn/_oldcore.py:1119: FutureWarning: use_inf_as_na option is deprecated and will be removed in a future version. Convert inf values to NaN before operating instead.\n",
      "  with pd.option_context('mode.use_inf_as_na', True):\n"
     ]
    },
    {
     "data": {
      "image/png": "[encoded data removed]",
      "text/plain": [
       "<Figure size 500x500 with 1 Axes>"
      ]
     },
     "metadata": {},
     "output_type": "display_data"
    }
   ],
   "source": [
    "sns.displot(data['New'],color='black',kde=True)\n",
    "plt.title('Distances covered by the New ball');"
   ]
  },
  {
   "cell_type": "code",
   "execution_count": 12,
   "id": "73fbe58d",
   "metadata": {
    "execution": {
     "iopub.execute_input": "2024-04-30T06:41:43.466909Z",
     "iopub.status.busy": "2024-04-30T06:41:43.466181Z",
     "iopub.status.idle": "2024-04-30T06:41:43.476304Z",
     "shell.execute_reply": "2024-04-30T06:41:43.475379Z"
    },
    "papermill": {
     "duration": 0.02196,
     "end_time": "2024-04-30T06:41:43.478493",
     "exception": false,
     "start_time": "2024-04-30T06:41:43.456533",
     "status": "completed"
    },
    "tags": []
   },
   "outputs": [
    {
     "data": {
      "text/html": [
       "<div>\n",
       "<style scoped>\n",
       "    .dataframe tbody tr th:only-of-type {\n",
       "        vertical-align: middle;\n",
       "    }\n",
       "\n",
       "    .dataframe tbody tr th {\n",
       "        vertical-align: top;\n",
       "    }\n",
       "\n",
       "    .dataframe thead th {\n",
       "        text-align: right;\n",
       "    }\n",
       "</style>\n",
       "<table border=\"1\" class=\"dataframe\">\n",
       "  <thead>\n",
       "    <tr style=\"text-align: right;\">\n",
       "      <th></th>\n",
       "      <th>Current</th>\n",
       "      <th>New</th>\n",
       "    </tr>\n",
       "  </thead>\n",
       "  <tbody>\n",
       "    <tr>\n",
       "      <th>Current</th>\n",
       "      <td>1.00000</td>\n",
       "      <td>-0.08273</td>\n",
       "    </tr>\n",
       "    <tr>\n",
       "      <th>New</th>\n",
       "      <td>-0.08273</td>\n",
       "      <td>1.00000</td>\n",
       "    </tr>\n",
       "  </tbody>\n",
       "</table>\n",
       "</div>"
      ],
      "text/plain": [
       "         Current      New\n",
       "Current  1.00000 -0.08273\n",
       "New     -0.08273  1.00000"
      ]
     },
     "execution_count": 12,
     "metadata": {},
     "output_type": "execute_result"
    }
   ],
   "source": [
    "data.corr()"
   ]
  },
  {
   "cell_type": "markdown",
   "id": "e9d35f88",
   "metadata": {
    "papermill": {
     "duration": 0.008069,
     "end_time": "2024-04-30T06:41:43.494686",
     "exception": false,
     "start_time": "2024-04-30T06:41:43.486617",
     "status": "completed"
    },
    "tags": []
   },
   "source": [
    "<b style='font-size:19px'>There is a negative correlation between the distances covered by current ball and the new ball. But we assume that there is no correlation between the variables i.e, independent to each other.</b>"
   ]
  },
  {
   "cell_type": "markdown",
   "id": "4d867c86",
   "metadata": {
    "papermill": {
     "duration": 0.008005,
     "end_time": "2024-04-30T06:41:43.511212",
     "exception": false,
     "start_time": "2024-04-30T06:41:43.503207",
     "status": "completed"
    },
    "tags": []
   },
   "source": [
    "<h3><b>Student t-test</b></h3>"
   ]
  },
  {
   "cell_type": "markdown",
   "id": "83807430",
   "metadata": {
    "papermill": {
     "duration": 0.007905,
     "end_time": "2024-04-30T06:41:43.527119",
     "exception": false,
     "start_time": "2024-04-30T06:41:43.519214",
     "status": "completed"
    },
    "tags": []
   },
   "source": [
    "<b style='font-size:19px'>Student t-test is primarily used for comparing the parameters of two independent groups when the outcome is numeric or continuous. We provide a null  "
   ]
  },
  {
   "cell_type": "markdown",
   "id": "f65794e7",
   "metadata": {
    "papermill": {
     "duration": 0.007702,
     "end_time": "2024-04-30T06:41:43.542859",
     "exception": false,
     "start_time": "2024-04-30T06:41:43.535157",
     "status": "completed"
    },
    "tags": []
   },
   "source": [
    "<b style='font-size:17px'>\n",
    "Let the null hypothesis is there's no significant difference between the means of distances covered by current ball and new ball and the alternate hypothesis is there is a significant difference between the means of distances covered by current ball and new ball.    \n",
    "</b>"
   ]
  },
  {
   "cell_type": "code",
   "execution_count": 13,
   "id": "e77e505f",
   "metadata": {
    "execution": {
     "iopub.execute_input": "2024-04-30T06:41:43.591271Z",
     "iopub.status.busy": "2024-04-30T06:41:43.589983Z",
     "iopub.status.idle": "2024-04-30T06:41:43.596815Z",
     "shell.execute_reply": "2024-04-30T06:41:43.595596Z"
    },
    "papermill": {
     "duration": 0.044247,
     "end_time": "2024-04-30T06:41:43.599936",
     "exception": false,
     "start_time": "2024-04-30T06:41:43.555689",
     "status": "completed"
    },
    "tags": []
   },
   "outputs": [],
   "source": [
    "current = data['Current']\n",
    "new = data['New']"
   ]
  },
  {
   "cell_type": "code",
   "execution_count": 14,
   "id": "31bccbc5",
   "metadata": {
    "execution": {
     "iopub.execute_input": "2024-04-30T06:41:43.686651Z",
     "iopub.status.busy": "2024-04-30T06:41:43.682729Z",
     "iopub.status.idle": "2024-04-30T06:41:43.721093Z",
     "shell.execute_reply": "2024-04-30T06:41:43.719237Z"
    },
    "papermill": {
     "duration": 0.083488,
     "end_time": "2024-04-30T06:41:43.724494",
     "exception": false,
     "start_time": "2024-04-30T06:41:43.641006",
     "status": "completed"
    },
    "tags": []
   },
   "outputs": [],
   "source": [
    "t_statistic,p_value = stats.ttest_ind(current,new)"
   ]
  },
  {
   "cell_type": "code",
   "execution_count": 15,
   "id": "b5ccc0ab",
   "metadata": {
    "execution": {
     "iopub.execute_input": "2024-04-30T06:41:43.745073Z",
     "iopub.status.busy": "2024-04-30T06:41:43.744330Z",
     "iopub.status.idle": "2024-04-30T06:41:43.750321Z",
     "shell.execute_reply": "2024-04-30T06:41:43.749251Z"
    },
    "papermill": {
     "duration": 0.018024,
     "end_time": "2024-04-30T06:41:43.752530",
     "exception": false,
     "start_time": "2024-04-30T06:41:43.734506",
     "status": "completed"
    },
    "tags": []
   },
   "outputs": [
    {
     "name": "stdout",
     "output_type": "stream",
     "text": [
      "The P-value of the test is 0.18793228491854663\n"
     ]
    }
   ],
   "source": [
    "print(f'The P-value of the test is {p_value}')"
   ]
  },
  {
   "cell_type": "markdown",
   "id": "b0f93541",
   "metadata": {
    "papermill": {
     "duration": 0.008624,
     "end_time": "2024-04-30T06:41:43.769417",
     "exception": false,
     "start_time": "2024-04-30T06:41:43.760793",
     "status": "completed"
    },
    "tags": []
   },
   "source": [
    "<b style='font-size:19px'>Conclusion</b>\n",
    "<br />\n",
    "<br />\n",
    "<b style='font-size:17px'>The P-value is greater than the significance level of 0.05. So we failed to reject the null hypothesis. Therefore, the null hypothesis is accepted i.e, there is no significant difference between the distances covered by the covered by the current ball and new ball.\n",
    "</b>"
   ]
  }
 ],
 "metadata": {
  "kaggle": {
   "accelerator": "none",
   "dataSources": [
    {
     "datasetId": 150478,
     "sourceId": 347724,
     "sourceType": "datasetVersion"
    }
   ],
   "dockerImageVersionId": 30698,
   "isGpuEnabled": false,
   "isInternetEnabled": true,
   "language": "python",
   "sourceType": "notebook"
  },
  "kernelspec": {
   "display_name": "Python 3",
   "language": "python",
   "name": "python3"
  },
  "language_info": {
   "codemirror_mode": {
    "name": "ipython",
    "version": 3
   },
   "file_extension": ".py",
   "mimetype": "text/x-python",
   "name": "python",
   "nbconvert_exporter": "python",
   "pygments_lexer": "ipython3",
   "version": "3.12.1"
  },
  "papermill": {
   "default_parameters": {},
   "duration": 9.14477,
   "end_time": "2024-04-30T06:41:44.805771",
   "environment_variables": {},
   "exception": null,
   "input_path": "__notebook__.ipynb",
   "output_path": "__notebook__.ipynb",
   "parameters": {},
   "start_time": "2024-04-30T06:41:35.661001",
   "version": "2.5.0"
  }
 },
 "nbformat": 4,
 "nbformat_minor": 5
}
